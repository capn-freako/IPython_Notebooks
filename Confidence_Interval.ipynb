{
 "metadata": {
  "name": "",
  "signature": "sha256:4c3defd2aec515b99ba7aca7fc18f82010e4a0f6c2dafdafd7b954625be8b883"
 },
 "nbformat": 3,
 "nbformat_minor": 0,
 "worksheets": [
  {
   "cells": [
    {
     "cell_type": "heading",
     "level": 1,
     "metadata": {},
     "source": [
      "Understanding the Confidence Interval"
     ]
    },
    {
     "cell_type": "markdown",
     "metadata": {},
     "source": [
      "This IPython notebook attempts to explain the *confidence interval*, a concept often used when attempting to estimate the BER (bit error ratio) of serial communication links.\n",
      "\n",
      "Original author: David Banas  \n",
      "Original date: April 23, 2015\n",
      "\n",
      "Copyright (c) 2015 David Banas; all rights reserved World wide."
     ]
    },
    {
     "cell_type": "heading",
     "level": 2,
     "metadata": {},
     "source": [
      "Contents"
     ]
    },
    {
     "cell_type": "markdown",
     "metadata": {},
     "source": [
      "  - [Binomial Distribution](#Binomial-Distribution)\n",
      "  - [The Problem with Factorials](#The-Problem-with-Factorials)\n",
      "  - [Approximating the Binomial Distribution](#Approximating-the-Binomial-Distribution)\n",
      "  - [Poisson Distribution](#Poisson-Distribution)\n",
      "  - [Confidence in Estimation](#Confidence-in-Estimation)\n",
      "  "
     ]
    },
    {
     "cell_type": "heading",
     "level": 2,
     "metadata": {},
     "source": [
      "<a id=\"Binomial-Distribution\">Binomial Distribution</a>"
     ]
    },
    {
     "cell_type": "markdown",
     "metadata": {},
     "source": [
      "If we have a set of events, each having the same two possible outcomes (say, *heads* and *tails*, or *error* and *no error*), then the probability of having *m* events with outcome *A* after *n* trials is given by the [Binomial Distribution](http://en.wikipedia.org/wiki/Binomial_distribution):\n",
      "$$\n",
      "P(m=A \\mid n) = p_A^m * (1 - p_A)^{n-m} \\frac{n!}{{(n-m)}!m!}\n",
      "$$\n",
      "where $p_A$ is the probability of any single trial having outcome A.\n",
      "\n",
      "Now, let's try and use this to calculate the probability of observing a certain number of errors in a stream of bits transmitted through a serial link with a certain BER..."
     ]
    },
    {
     "cell_type": "code",
     "collapsed": false,
     "input": [
      "from math  import factorial\n",
      "\n",
      "kNumBits = 1.e12   # 'n' in the equation, above.\n",
      "kBER     = 1.e-12  # 'p-sub-A'.\n",
      "\n",
      "def prob(m):\n",
      "    'Probabillity of observing m errors.'\n",
      "    \n",
      "    return pow(kBER, m) * pow((1 - kBER), (kNumBits - m)) * factorial(kNumBits) / factorial(kNumBits - m) / factorial(m)\n",
      "    \n",
      "for m in range(3):\n",
      "    print \"P(%d):\" % m, prob(m)\n"
     ],
     "language": "python",
     "metadata": {},
     "outputs": [
      {
       "output_type": "stream",
       "stream": "stdout",
       "text": [
        "P(0):"
       ]
      },
      {
       "ename": "KeyboardInterrupt",
       "evalue": "",
       "output_type": "pyerr",
       "traceback": [
        "\u001b[0;31m---------------------------------------------------------------------------\u001b[0m\n\u001b[0;31mKeyboardInterrupt\u001b[0m                         Traceback (most recent call last)",
        "\u001b[0;32m<ipython-input-1-5ff6057e89e6>\u001b[0m in \u001b[0;36m<module>\u001b[0;34m()\u001b[0m\n\u001b[1;32m     10\u001b[0m \u001b[0;34m\u001b[0m\u001b[0m\n\u001b[1;32m     11\u001b[0m \u001b[0;32mfor\u001b[0m \u001b[0mm\u001b[0m \u001b[0;32min\u001b[0m \u001b[0mrange\u001b[0m\u001b[0;34m(\u001b[0m\u001b[0;36m3\u001b[0m\u001b[0;34m)\u001b[0m\u001b[0;34m:\u001b[0m\u001b[0;34m\u001b[0m\u001b[0m\n\u001b[0;32m---> 12\u001b[0;31m     \u001b[0;32mprint\u001b[0m \u001b[0;34m\"P(%d):\"\u001b[0m \u001b[0;34m%\u001b[0m \u001b[0mm\u001b[0m\u001b[0;34m,\u001b[0m \u001b[0mprob\u001b[0m\u001b[0;34m(\u001b[0m\u001b[0mm\u001b[0m\u001b[0;34m)\u001b[0m\u001b[0;34m\u001b[0m\u001b[0m\n\u001b[0m",
        "\u001b[0;32m<ipython-input-1-5ff6057e89e6>\u001b[0m in \u001b[0;36mprob\u001b[0;34m(m)\u001b[0m\n\u001b[1;32m      7\u001b[0m     \u001b[0;34m'Probabillity of observing m errors.'\u001b[0m\u001b[0;34m\u001b[0m\u001b[0m\n\u001b[1;32m      8\u001b[0m \u001b[0;34m\u001b[0m\u001b[0m\n\u001b[0;32m----> 9\u001b[0;31m     \u001b[0;32mreturn\u001b[0m \u001b[0mpow\u001b[0m\u001b[0;34m(\u001b[0m\u001b[0mkBER\u001b[0m\u001b[0;34m,\u001b[0m \u001b[0mm\u001b[0m\u001b[0;34m)\u001b[0m \u001b[0;34m*\u001b[0m \u001b[0mpow\u001b[0m\u001b[0;34m(\u001b[0m\u001b[0;34m(\u001b[0m\u001b[0;36m1\u001b[0m \u001b[0;34m-\u001b[0m \u001b[0mkBER\u001b[0m\u001b[0;34m)\u001b[0m\u001b[0;34m,\u001b[0m \u001b[0;34m(\u001b[0m\u001b[0mkNumBits\u001b[0m \u001b[0;34m-\u001b[0m \u001b[0mm\u001b[0m\u001b[0;34m)\u001b[0m\u001b[0;34m)\u001b[0m \u001b[0;34m*\u001b[0m \u001b[0mfactorial\u001b[0m\u001b[0;34m(\u001b[0m\u001b[0mkNumBits\u001b[0m\u001b[0;34m)\u001b[0m \u001b[0;34m/\u001b[0m \u001b[0mfactorial\u001b[0m\u001b[0;34m(\u001b[0m\u001b[0mkNumBits\u001b[0m \u001b[0;34m-\u001b[0m \u001b[0mm\u001b[0m\u001b[0;34m)\u001b[0m \u001b[0;34m/\u001b[0m \u001b[0mfactorial\u001b[0m\u001b[0;34m(\u001b[0m\u001b[0mm\u001b[0m\u001b[0;34m)\u001b[0m\u001b[0;34m\u001b[0m\u001b[0m\n\u001b[0m\u001b[1;32m     10\u001b[0m \u001b[0;34m\u001b[0m\u001b[0m\n\u001b[1;32m     11\u001b[0m \u001b[0;32mfor\u001b[0m \u001b[0mm\u001b[0m \u001b[0;32min\u001b[0m \u001b[0mrange\u001b[0m\u001b[0;34m(\u001b[0m\u001b[0;36m3\u001b[0m\u001b[0;34m)\u001b[0m\u001b[0;34m:\u001b[0m\u001b[0;34m\u001b[0m\u001b[0m\n",
        "\u001b[0;31mKeyboardInterrupt\u001b[0m: "
       ]
      }
     ],
     "prompt_number": 1
    },
    {
     "cell_type": "markdown",
     "metadata": {},
     "source": [
      "I had to give up, after 5 hours, and interrupt the code, above. What happened?!  \n",
      "The problem is those two factorial functions with very large arguments.  \n",
      "Watch what happens to execution time, as the argument to the factorial function increases:"
     ]
    },
    {
     "cell_type": "heading",
     "level": 2,
     "metadata": {},
     "source": [
      "<a id=\"The-Problem-with-Factorials\">The Problem with Factorials</a>"
     ]
    },
    {
     "cell_type": "code",
     "collapsed": false,
     "input": [
      "%matplotlib inline\n",
      "\n",
      "from matplotlib import pyplot as plt\n",
      "from time       import clock\n",
      "from numpy      import array\n",
      "\n",
      "test_vals = array([1, 2, 5, 10, 20, 50, 100]) * 1e3\n",
      "run_times = []\n",
      "results   = []\n",
      "for i in test_vals:\n",
      "    start = clock()\n",
      "    results.append(factorial(i))\n",
      "    run_times.append(clock() - start)\n",
      "plt.plot(test_vals, run_times)\n",
      "plt.title(\"Factorial function run time vs. input argument\")\n",
      "plt.xlabel(\"Input Argument\")\n",
      "plt.ylabel(\"Run Time (s)\")\n"
     ],
     "language": "python",
     "metadata": {},
     "outputs": [
      {
       "metadata": {},
       "output_type": "pyout",
       "prompt_number": 2,
       "text": [
        "<matplotlib.text.Text at 0x106424c50>"
       ]
      },
      {
       "output_type": "stream",
       "stream": "stdout",
       "text": [
        "\n"
       ]
      },
      {
       "metadata": {},
       "output_type": "display_data",
       "png": "[encoded data removed]",
       "text": [
        "<matplotlib.figure.Figure at 0x104fa5890>"
       ]
      }
     ],
     "prompt_number": 2
    },
    {
     "cell_type": "markdown",
     "metadata": {},
     "source": [
      "The problem is the run time of the factorial function is increasing exponentially with increasing input argument value, and we are sending in some really large values! We need to eliminate those large factorials."
     ]
    },
    {
     "cell_type": "heading",
     "level": 2,
     "metadata": {},
     "source": [
      "<a id=\"Approximating-the-Binomial-Distribution\">Approximating the Binomial Distribution</a>"
     ]
    },
    {
     "cell_type": "markdown",
     "metadata": {},
     "source": [
      "Consider, for $n$ very large and $m$ very small (i.e. - the conditions we'd expect for a well designed serial communications link):\n",
      "\n",
      "$$\\frac{n!}{(n-m)!} = \\frac{n(n-1)(n-2)\\cdots1}{(n-m)(n-m-1)\\cdots1} = n(n-1)(n-2)\\cdots(n-m+1) \\approx n^m$$\n",
      "\n",
      "Let's use this to approximate the Binomial Distribution in a way that gets rid of those large factorials:\n",
      "\n",
      "$$P(m) = \\frac{(np)^m}{m!}(1-p)^{n-m}$$\n",
      "\n",
      "(Note that we've simplified our notation: from now on, it will be understood that $P(m)$ is the probability of observing $m$ errors in $n$ bits, and that $p$ is the probability that any particular bit will be erroneous.)\n",
      "\n",
      "Let's code this new expression up and give it a try..."
     ]
    },
    {
     "cell_type": "code",
     "collapsed": false,
     "input": [
      "def prob2(m):\n",
      "    'Uses approximation to eliminate large factorials.'\n",
      "    \n",
      "    return pow(kNumBits * kBER, m) * pow((1 - kBER), (kNumBits - m)) / factorial(m)\n",
      "    \n",
      "for m in range(3):\n",
      "    print \"P(%d):\" % m, prob2(m)\n"
     ],
     "language": "python",
     "metadata": {},
     "outputs": [
      {
       "output_type": "stream",
       "stream": "stdout",
       "text": [
        "P(0): 0.367887579387\n",
        "P(1): 0.367887579388\n",
        "P(2): 0.183943789694\n"
       ]
      }
     ],
     "prompt_number": 3
    },
    {
     "cell_type": "markdown",
     "metadata": {},
     "source": [
      "And we have solved our run time problems; yeah!"
     ]
    },
    {
     "cell_type": "heading",
     "level": 2,
     "metadata": {},
     "source": [
      "<a id=\"Poisson-Distribution\">Poisson Distribution</a>"
     ]
    },
    {
     "cell_type": "markdown",
     "metadata": {},
     "source": [
      "Now, that expression, $(1-p)^{n-m}$, has a huge exponent. Maybe, there's even more run time to be saved? Let's find an approximation for it and see if that helps.\n",
      "\n",
      "Consider, for $p$ very small:\n",
      "\n",
      "$$(1 - p)^{n-m} = \\frac{(1 - p)^n}{(1 - p)^m} \\approx (1 - p)^n \\approx e^{-np}$$\n",
      "\n",
      "(Recall that:\n",
      "\n",
      "$$e^x = \\sum_{k=0}^\\infty\\frac{x^k}{k!}$$\n",
      "\n",
      "$$e^{-x} = 1 - x + \\frac{x^2}{2} - \\frac{x^3}{6} + \\cdots \\approx 1 - x \\quad \\text{, for x very small.)}$$\n",
      "\n",
      "Let's work this further approximation into our probability expression:\n",
      "\n",
      "$$P(m) = \\frac{(np)^m}{m!}e^{-np}$$\n",
      "\n",
      "We have arrived at the well known [Poisson Distribution](http://en.wikipedia.org/wiki/Poisson_distribution), which is used almost exclusively in the serial communication industry to estimate link BER.\n",
      "\n",
      "Let's code this up and see if it works..."
     ]
    },
    {
     "cell_type": "code",
     "collapsed": false,
     "input": [
      "from numpy import exp\n",
      "\n",
      "def prob3(m):\n",
      "    'Uses a further approximation to eliminate large exponential term.'\n",
      "    \n",
      "    return pow(kNumBits * kBER, m) * exp(-kNumBits * kBER) / factorial(m)\n",
      "    \n",
      "for m in range(3):\n",
      "    print \"P(%d):\" % m, prob3(m)\n",
      "\n"
     ],
     "language": "python",
     "metadata": {},
     "outputs": [
      {
       "output_type": "stream",
       "stream": "stdout",
       "text": [
        "P(0): 0.367879441171\n",
        "P(1): 0.367879441171\n",
        "P(2): 0.183939720586\n"
       ]
      }
     ],
     "prompt_number": 4
    },
    {
     "cell_type": "markdown",
     "metadata": {},
     "source": [
      "Okay, that worked, as well. I wonder which one is faster..."
     ]
    },
    {
     "cell_type": "code",
     "collapsed": false,
     "input": [
      "kNumTrials = 1000000\n",
      "\n",
      "start = clock()\n",
      "for i in range(kNumTrials):\n",
      "    prob2(1)\n",
      "print \"Partial approximation took %e seconds per run.\" % ((clock() - start) / kNumTrials)\n",
      "\n",
      "start = clock()\n",
      "for i in range(kNumTrials):\n",
      "    prob3(1)\n",
      "print \"Full    approximation took %e seconds per run.\" % ((clock() - start) / kNumTrials)\n"
     ],
     "language": "python",
     "metadata": {},
     "outputs": [
      {
       "output_type": "stream",
       "stream": "stdout",
       "text": [
        "Partial approximation took 7.949160e-07 seconds per run.\n",
        "Full    approximation took 1.680213e-06 seconds per run."
       ]
      },
      {
       "output_type": "stream",
       "stream": "stdout",
       "text": [
        "\n"
       ]
      }
     ],
     "prompt_number": 5
    },
    {
     "cell_type": "markdown",
     "metadata": {},
     "source": [
      "Since the partial approximation runs approximately twice as fast and represents a smaller deviation from the true answer, we'll use it going forward."
     ]
    },
    {
     "cell_type": "heading",
     "level": 2,
     "metadata": {},
     "source": [
      "<a id=\"Confidence-in-Estimation\">Confidence in Estimation</a>"
     ]
    },
    {
     "cell_type": "markdown",
     "metadata": {},
     "source": [
      "Now, let's try to answer the following question:\n",
      "\n",
      "**If I go into the lab and observe my link operate error free for $10^{12}$ bits, what can I say about my link?**\n",
      "\n",
      "Many younger engineers use the following faulty reasoning when answering this question:\n",
      "\n",
      "\"Since I observed my link operate error free for $10^{12}$ bits, I know that the worst case possibility is that I had observed it for one additional bit and observed an error.\"\n",
      "\n",
      "This leads them to believe that the worst possible BER their link could ever exhibit is:\n",
      "\n",
      "$$BER \\leq \\frac{1}{10^{12}+1} \\approx 10^{-12}$$\n",
      "\n",
      "There are two faults in this line of reasoning:\n",
      "\n",
      "  - That is *not* the worst case possibility; one that is worse is having observed the link for *two* extra bits and having them both be erroneous. In that case, we'd claim our BER was $\\leq 2\\cdot10^{-12}$, a $100\\%$ error, relative to our previous claim!\n",
      "  - We can't be certain that, if we made another $10^{12}$ bit observation, we wouldn't observe an error.\n",
      "\n",
      "So, as well as giving someone our *estimate* of our link BER, we also need to quanitfy our *confidence* in that estimate. How do we do that?\n",
      "\n",
      "Hint: \"I'm pretty sure\" is *not* the answer!\n",
      "\n",
      "Well, what if we were to invent and precisely define a new term: *confidence interval*?  \n",
      "(We use the new, two word phrase, in order to clearly delineate our meaning from that of the English word, *confidence*.)\n",
      "\n",
      "$$CI = Pr(m > \\hat{m} \\mid BER > \\widehat{BER})$$\n",
      "\n",
      "or, in English: My confidence in my estimate is simply the probability that I would have observed more errors than I did, if the BER were worse than I'm telling you it is.\n",
      "\n",
      "If we start down the path of evaluating the expression, above, we quickly arrive at a dead end, when we have to evaluate an infinite sum (from $\\hat{m} + 1$ to infinity). While some of these infinite sums often converge to nice, closed form solutions, not so in this case. So, instead, we take advantage of a certain truism in probability theory:\n",
      "\n",
      "$$Pr(E) = 1 - Pr(\\bar{E})$$\n",
      "\n",
      "or, in English: The probability of an event occuring is equal to one minus the probability of its complement occuring. Using this, we're able to rewrite our expression defining our confidence interval, *CI*, in a way that leads to a sum, which we *can* evaluate:\n",
      "\n",
      "$$CI = 1 - Pr(m \\leq \\hat{m} \\mid BER > \\widehat{BER})$$\n",
      "\n",
      "Now, we only need to sum from $m=0$ to $m=\\hat{m}$. Since $\\hat{m}$ is, typically, quite small when characterizing serial communication links, this calculation is quite manageable. Let's code it up and calculate our confidence interval for several test cases..."
     ]
    },
    {
     "cell_type": "code",
     "collapsed": false,
     "input": [
      "# Redefine our probability calculation function to take in 'n' and 'p' as arguments.\n",
      "def prob2(m, n=kNumBits, p=kBER): # By giving n and p the proper defaults, we avoid breaking older client code.\n",
      "    \"\"\"\n",
      "    Calculate the probability of observing m errors in a stream of n bits, given link BER p.\n",
      "    \n",
      "    Uses approximation to eliminate large factorials.\n",
      "    \"\"\"\n",
      "    \n",
      "    return pow(n * p, m) * pow((1 - p), (n - m)) / factorial(m)\n",
      "\n",
      "# Define our confidence interval calculation function.\n",
      "def conf_int(m_hat, n, ber):\n",
      "    \"\"\"\n",
      "    Calculate the confidence interval of a BER estimation.\n",
      "    \n",
      "    Inputs:\n",
      "      - m_hat  Number of errors observed.\n",
      "      - n      Number of bits received.\n",
      "      - ber    Estimate of link bit error ratio.\n",
      "      \n",
      "    \"\"\"\n",
      "    \n",
      "    return 1 - sum(prob2(m, n, ber) for m in range(m_hat + 1))\n",
      "\n",
      "# Calculate the actual confidence interval of our junior engineer's claim.\n",
      "print \"Confidence in claim, 'BER <= 1e-12', after observing no errors in 1e12 received bits:\", conf_int(0, 1e12, 1.e-12)\n"
     ],
     "language": "python",
     "metadata": {},
     "outputs": [
      {
       "output_type": "stream",
       "stream": "stdout",
       "text": [
        "Confidence in claim, 'BER <= 1e-12', after observing no errors in 1e12 received bits: 0.632112420613\n"
       ]
      }
     ],
     "prompt_number": 6
    },
    {
     "cell_type": "markdown",
     "metadata": {},
     "source": [
      "And we see that the confidence interval of our young engineer's claim is only 63%!  \n",
      "Now, before she read this, what do you suppose her response might have been, if pressed by upper management to \"quantify her certainty\"? Do you think she might have said something like, \"I'm 99% certain in my claim.\"? How often have you heard a peer say something like that, without any way to defend the number they used? Too often, perhaps?\n",
      "\n",
      "**Dave's Lemma: Baseless quantification of certainty in engineering claims is partially responsible for Space Shuttles blowing up and bridges collapsing.**\n",
      "\n",
      "PLEASE, DON'T CONTRIBUTE TO THIS!\n",
      "\n",
      "Now, let's see how our confidence interval improves, as we observe the link operating error-free for longer durations..."
     ]
    },
    {
     "cell_type": "code",
     "collapsed": false,
     "input": [
      "# Plot confidence interval vs. error-free observation time.\n",
      "intervals = [1, 2, 3, 4, 5, 10] # Numbers are normalized to the quantity '1/BER' bits.\n",
      "cis       = []\n",
      "for interval in intervals:\n",
      "    cis.append(conf_int(0, interval * kNumBits, kBER))\n",
      "plt.plot(intervals, cis)\n",
      "plt.title(\"Confidence Interval vs. Error-free Observation Time\")\n",
      "plt.xlabel(\"Observation Time (Normalized to Tbit/BER)\")\n",
      "plt.ylabel(\"Confidence Interval\")\n"
     ],
     "language": "python",
     "metadata": {},
     "outputs": [
      {
       "metadata": {},
       "output_type": "pyout",
       "prompt_number": 7,
       "text": [
        "<matplotlib.text.Text at 0x104fa57d0>"
       ]
      },
      {
       "metadata": {},
       "output_type": "display_data",
       "png": "[encoded data removed]",
       "text": [
        "<matplotlib.figure.Figure at 0x1064ff790>"
       ]
      }
     ],
     "prompt_number": 7
    },
    {
     "cell_type": "markdown",
     "metadata": {},
     "source": [
      "As you can see, it requires observing 5e12 error-free bits, before we can claim that we have a 1e-12 BER, with 99% certainty."
     ]
    }
   ],
   "metadata": {}
  }
 ]
}