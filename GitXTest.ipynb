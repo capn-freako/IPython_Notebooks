{
 "cells": [
  {
   "cell_type": "markdown",
   "metadata": {},
   "source": [
    "# Testing LaTeX and Images in Jupyter notebooks.\n",
    "\n",
    "Original author: David Banas <capn.freako@gmail.com>  \n",
    "Original date: May 7, 2019\n",
    "\n",
    "This Jupyter notebook was constructed to be a minimal test case for verifying correct rendering of both:\n",
    "\n",
    "- LaTeX math, and\n",
    "- external images\n",
    "\n",
    "in notebooks stored in GitHub/GitLab repositories.\n",
    "\n",
    "At the time of this writing, both appear to render properly on GitHub, and neither on GitLab. :(\n",
    "\n",
    "## LaTeX Test\n",
    "\n",
    "**Inline:**\n",
    "\n",
    "$E = mc^2$\n",
    "\n",
    "**Display:**\n",
    "\n",
    "$$\n",
    "E = mc^2\n",
    "$$\n",
    "\n",
    "## Image Test\n",
    "\n",
    "![Dave's Bitmoji](Dave_BitMoji.JPG)\n"
   ]
  },
  {
   "cell_type": "code",
   "execution_count": null,
   "metadata": {},
   "outputs": [],
   "source": []
  }
 ],
 "metadata": {
  "kernelspec": {
   "display_name": "Python 2",
   "language": "python",
   "name": "python2"
  },
  "language_info": {
   "codemirror_mode": {
    "name": "ipython",
    "version": 2
   },
   "file_extension": ".py",
   "mimetype": "text/x-python",
   "name": "python",
   "nbconvert_exporter": "python",
   "pygments_lexer": "ipython2",
   "version": "2.7.16"
  }
 },
 "nbformat": 4,
 "nbformat_minor": 2
}
